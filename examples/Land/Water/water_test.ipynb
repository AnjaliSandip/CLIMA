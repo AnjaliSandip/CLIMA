{
 "cells": [
  {
   "cell_type": "code",
   "execution_count": 19,
   "metadata": {},
   "outputs": [
    {
     "data": {
      "text/plain": [
       "-100.12733966741891"
      ]
     },
     "execution_count": 19,
     "metadata": {},
     "output_type": "execute_result"
    }
   ],
   "source": [
    "\n",
    "auxz = -100\n",
    "stateθ  = 0.48\n",
    "\n",
    "\n",
    "auxz+((-1/2.7)*(stateθ/0.487)^(-1/3.96))*(1-stateθ/0.487)^(1/3.96)\n",
    "\n",
    "# (-1/2.7)\n",
    "    \n",
    "#     (stateθ/0.287)^(-1/3.96)\n",
    "\n",
    "# (1-stateθ/0.287)^(1/3.96)\n",
    "# (-1/2.7)*(stateθ/0.487)^(-1/3.96)\n",
    "# 1-stateθ/0.487"
   ]
  },
  {
   "cell_type": "code",
   "execution_count": 22,
   "metadata": {},
   "outputs": [
    {
     "data": {
      "text/plain": [
       "effective_saturation (generic function with 1 method)"
      ]
     },
     "execution_count": 22,
     "metadata": {},
     "output_type": "execute_result"
    }
   ],
   "source": [
    "# Add soil model and other functions\n",
    "include(\"soil_water_properties.jl\")\n",
    "include(\"frozen_impedence_factor.jl\")\n",
    "include(\"temperature_dependence.jl\")\n",
    "include(\"matric_potential.jl\")\n",
    "include(\"pressure_head.jl\")\n",
    "include(\"hydraulic_head.jl\")\n",
    "include(\"effective_saturation.jl\")\n",
    "\n"
   ]
  },
  {
   "cell_type": "code",
   "execution_count": 30,
   "metadata": {},
   "outputs": [
    {
     "data": {
      "text/plain": [
       "5.490196565392704e-6"
      ]
     },
     "execution_count": 30,
     "metadata": {},
     "output_type": "execute_result"
    }
   ],
   "source": [
    "mineral_properties = \"Sand\"\n",
    "soil_T = 300 # Read in from heat model {aux.T}\n",
    "soil_Tref = 298.42 # Soil reference temperature: annual mean temperature of site\n",
    "theta_liq = 0.1 # Read in from water model {state.θ}\n",
    "theta_ice = 0.00 # Read in from water model {state.θi}\n",
    "porosity = 0.5 # Read in from data base\n",
    "ψ = -100 # Soil pressure head {aux.h}\n",
    "S_s = 10e-4  # [ m-1]\n",
    "flag = \"van Genuchten\" # \"van Genuchten\" , \"Brooks and Corey\"\n",
    "\n",
    "# This function calculates soil hydraulic conductivity\n",
    "Ks = soil_water_properties(mineral_properties,soil_T,soil_Tref,theta_liq,theta_ice,porosity,ψ,S_s,flag)  "
   ]
  },
  {
   "cell_type": "code",
   "execution_count": 31,
   "metadata": {},
   "outputs": [
    {
     "data": {
      "text/plain": [
       "1.0425941683876505"
      ]
     },
     "execution_count": 31,
     "metadata": {},
     "output_type": "execute_result"
    }
   ],
   "source": [
    "# soil_T = 290\n",
    "# soil_Tref = 280\n",
    "\n",
    "# This function calculates temperature dependence of hydraulic conductivity\n",
    "Theta_T = temperature_dependence(soil_T, soil_Tref) "
   ]
  },
  {
   "cell_type": "code",
   "execution_count": 32,
   "metadata": {},
   "outputs": [
    {
     "data": {
      "text/plain": [
       "1.0"
      ]
     },
     "execution_count": 32,
     "metadata": {},
     "output_type": "execute_result"
    }
   ],
   "source": [
    "# theta_ice = 0.01\n",
    "# porosity = 0.5\n",
    "\n",
    "# This function calculates frozen soil Impedence factor\n",
    "Gamma_thetai = frozen_impedence_factor(theta_ice, porosity)"
   ]
  },
  {
   "cell_type": "code",
   "execution_count": 33,
   "metadata": {},
   "outputs": [
    {
     "data": {
      "text/plain": [
       "0.2"
      ]
     },
     "execution_count": 33,
     "metadata": {},
     "output_type": "execute_result"
    }
   ],
   "source": [
    "# porosity = 0.5               \n",
    "# S_s = 10e-4  # [ m-1]\n",
    "# ψ = -100\n",
    "# theta_liq = 0.4\n",
    "\n",
    "# Effective saturation\n",
    "S_l = effective_saturation(porosity,S_s,ψ,theta_liq) "
   ]
  },
  {
   "cell_type": "code",
   "execution_count": 27,
   "metadata": {},
   "outputs": [
    {
     "data": {
      "text/plain": [
       "-0.7265095865955471"
      ]
     },
     "execution_count": 27,
     "metadata": {},
     "output_type": "execute_result"
    }
   ],
   "source": [
    "# Soil Matric potential\n",
    "# flag = \"van Genuchten\"\n",
    "alpha = 2 # m-1\n",
    "n = 5\n",
    "m = 1 - 1/n\n",
    "# S_l = 0.8\n",
    "\n",
    "# This function calculates matric potential ψ_m of a soil\n",
    "ψ_m = matric_potential(flag,alpha,S_l,n,m) \n",
    "\n"
   ]
  },
  {
   "cell_type": "code",
   "execution_count": 28,
   "metadata": {},
   "outputs": [
    {
     "data": {
      "text/plain": [
       "-0.7265095865955471"
      ]
     },
     "execution_count": 28,
     "metadata": {},
     "output_type": "execute_result"
    }
   ],
   "source": [
    "# Soil Matric potential\n",
    "# ψ_m = -0.5\n",
    "# S_l = 0.8\n",
    "# porosity = 0.5\n",
    "# S_s = 10e-4  # [ m-1]\n",
    "\n",
    "# This function calculates pressure head ψ of a soil\n",
    "ψ = pressure_head(ψ_m,S_l,porosity,S_s) "
   ]
  },
  {
   "cell_type": "code",
   "execution_count": 29,
   "metadata": {},
   "outputs": [
    {
     "data": {
      "text/plain": [
       "-3.2265095865955473"
      ]
     },
     "execution_count": 29,
     "metadata": {},
     "output_type": "execute_result"
    }
   ],
   "source": [
    "z = -2.5\n",
    "# ψ = -0.4\n",
    "\n",
    "# This function calculates pressure head ψ of a soil\n",
    "h = hydraulic_head(z,ψ) "
   ]
  },
  {
   "cell_type": "code",
   "execution_count": null,
   "metadata": {},
   "outputs": [],
   "source": []
  }
 ],
 "metadata": {
  "kernelspec": {
   "display_name": "Julia 1.3.1",
   "language": "julia",
   "name": "julia-1.3"
  },
  "language_info": {
   "file_extension": ".jl",
   "mimetype": "application/julia",
   "name": "julia",
   "version": "1.3.1"
  }
 },
 "nbformat": 4,
 "nbformat_minor": 2
}
